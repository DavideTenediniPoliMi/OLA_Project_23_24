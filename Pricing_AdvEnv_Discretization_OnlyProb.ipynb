{
 "cells": [
  {
   "cell_type": "code",
   "execution_count": 1,
   "id": "ccf8265d-3111-4aeb-bbab-9a0488b264c1",
   "metadata": {},
   "outputs": [],
   "source": [
    "import numpy as np\n",
    "from sklearn.gaussian_process import GaussianProcessRegressor\n",
    "from sklearn.gaussian_process.kernels import RBF, WhiteKernel, DotProduct, RationalQuadratic, ExpSineSquared, Matern\n",
    "import matplotlib.pyplot as plt\n",
    "from scipy.stats import norm \n",
    "\n",
    "from collections import Counter\n",
    "import math"
   ]
  },
  {
   "cell_type": "markdown",
   "id": "b6612ef4-2ebb-484d-9e36-0ecbc24bfda0",
   "metadata": {},
   "source": [
    "# Adversarial environment"
   ]
  },
  {
   "cell_type": "markdown",
   "id": "89858d7c-eae1-4338-8c20-a03dbe17e3d7",
   "metadata": {},
   "source": [
    "## First adversarial environment approach"
   ]
  },
  {
   "cell_type": "markdown",
   "id": "1860e936-84dc-42e6-92f2-e8b7e84604e7",
   "metadata": {},
   "source": [
    "The idea is to generate data each day from a different distributions among: linear, logit, probit, KERNEL"
   ]
  },
  {
   "cell_type": "markdown",
   "id": "5957f425-18f9-4178-8496-db556c624f97",
   "metadata": {},
   "source": [
    "Dubt on the noise usage -> is it necessary?  "
   ]
  },
  {
   "cell_type": "code",
   "execution_count": 2,
   "id": "7c1b1084-975b-4d49-9e30-a25e6e6d96d3",
   "metadata": {},
   "outputs": [],
   "source": [
    "class AdversarialPricingEnvironment:\n",
    "    def __init__(self, max_price=1.0, models=['linear', 'logit', 'probit', 'KERNEL'], noise_level=0.1):\n",
    "        self.max_price = max_price\n",
    "        self.models = models\n",
    "        self.noise_level = noise_level\n",
    "        self.models_history = [] # to keep trace of the selection\n",
    "        np.random.seed(42)\n",
    "\n",
    "    def generate_data(self, n_points=100): # n_points: becomes the number of points generated each day (so the actions number)\n",
    "        selected_model = np.random.choice(self.models)\n",
    "        self.models_history.append(selected_model)\n",
    "        \n",
    "        prices = np.linspace(0, self.max_price, n_points)\n",
    "        \n",
    "        if selected_model == 'linear':\n",
    "            beta_0 = 1  # Intercept\n",
    "            beta_1 = -1  # Slope (-1/max_rpice)\n",
    "            purchase_probabilities = beta_0 + beta_1 * prices\n",
    "            \n",
    "        elif selected_model == 'logit':\n",
    "            alpha = 0\n",
    "            beta = -5\n",
    "            purchase_probabilities = 1 / (1 + np.exp(-(alpha + beta * prices)))\n",
    "            \n",
    "        elif selected_model == 'probit':\n",
    "            alpha = 0\n",
    "            beta = -5\n",
    "            purchase_probabilities = norm.cdf(alpha + beta * prices)\n",
    "\n",
    "        elif selected_model == 'KERNEL':\n",
    "            purchase_probabilities = np.abs(np.sin(2 * np.pi * prices) * np.exp(-prices * 5) + prices * .10) + .1\n",
    "\n",
    "        \n",
    "        # Noise\n",
    "        noisy_purchase_probabilities = purchase_probabilities + np.random.normal(0, self.noise_level, n_points)\n",
    "        \n",
    "        # P is E [0, 1]\n",
    "        noisy_purchase_probabilities = np.clip(noisy_purchase_probabilities, 0, 1)\n",
    "        \n",
    "        return prices.reshape(-1, 1), noisy_purchase_probabilities"
   ]
  },
  {
   "cell_type": "markdown",
   "id": "54a5f21f-2300-4288-9d29-d82845dfdf16",
   "metadata": {},
   "source": [
    "## Second adversarial environment approach"
   ]
  },
  {
   "cell_type": "markdown",
   "id": "07f52141-b087-453e-95db-e3821299864b",
   "metadata": {},
   "source": [
    "Here we explore only the linear model where the intercept is fixed and the slope is sampled from a gaussian distribution with mean 1 and standard deviation 0.5"
   ]
  },
  {
   "cell_type": "code",
   "execution_count": 3,
   "id": "1f64f9e3-ed04-4f42-900a-0a42ac76b5aa",
   "metadata": {},
   "outputs": [],
   "source": [
    "class AdversarialPricingEnvironment_Linear:\n",
    "    def __init__(self, max_price=1.0, noise_level=0.1):\n",
    "        self.max_price = max_price\n",
    "        self.noise_level = noise_level\n",
    "        np.random.seed(42)\n",
    "\n",
    "    def generate_data(self, n_points=100): # Here n_points becomes the number of points generated each day         \n",
    "        prices = np.linspace(0, self.max_price, n_points)\n",
    "        \n",
    "        alpha = 1\n",
    "        beta = np.random.normal(1, 0.5) # original_beta = 1/max_price \n",
    "        purchase_probabilities = alpha - beta * prices\n",
    "            \n",
    "        # Noise\n",
    "        noisy_purchase_probabilities = purchase_probabilities + np.random.normal(0, self.noise_level, n_points)\n",
    "        \n",
    "        # P is E [0, 1]\n",
    "        noisy_purchase_probabilities = np.clip(noisy_purchase_probabilities, 0, 1)\n",
    "        \n",
    "        return prices.reshape(-1, 1), noisy_purchase_probabilities"
   ]
  },
  {
   "cell_type": "markdown",
   "id": "81cd179d-9861-4e91-8d39-9f54abcac33b",
   "metadata": {},
   "source": [
    "# Agent"
   ]
  },
  {
   "cell_type": "markdown",
   "id": "897c74b5-8f56-40d8-900c-87dcfef84f42",
   "metadata": {},
   "source": [
    "Here we'll work with the discretization of the prices interval "
   ]
  },
  {
   "cell_type": "markdown",
   "id": "9f038a47-20ef-4080-87bd-d3bfaa90857a",
   "metadata": {},
   "source": [
    "## EXP3"
   ]
  },
  {
   "cell_type": "markdown",
   "id": "3676370d-2b41-4f72-b46b-fcf212cd6d32",
   "metadata": {},
   "source": [
    "Here we're not introducing price/cost/customers_number yet.\n",
    "Since the EXP3 work penalizing the weight based on the associated loss amplitude, we'll use as loss:  \n",
    "not_purchase_probability = 1 - purchase_probability"
   ]
  },
  {
   "cell_type": "code",
   "execution_count": 4,
   "id": "3c6f7814-62be-4eb6-ab28-350e4f214229",
   "metadata": {},
   "outputs": [],
   "source": [
    "class EXP3Agent:\n",
    "    def __init__(self, K, learning_rate):\n",
    "        self.K = K\n",
    "        self.learning_rate = learning_rate\n",
    "        self.weights = np.ones(K)\n",
    "        self.a_t = None\n",
    "        self.x_t = np.ones(K)/K\n",
    "        self.N_pulls = np.zeros(K)\n",
    "        self.t = 0\n",
    "\n",
    "    def pull_arm(self):\n",
    "        self.x_t = self.weights/sum(self.weights)\n",
    "        self.a_t = np.random.choice(np.arange(self.K), p=self.x_t)\n",
    "        return self.a_t\n",
    "    \n",
    "    def update(self, l_t):\n",
    "        l_t_tilde = l_t/self.x_t[self.a_t] # NB: My l_t is the non purchase probability\n",
    "        self.weights[self.a_t] *= np.exp(-self.learning_rate*l_t_tilde)\n",
    "        self.N_pulls[self.a_t] += 1\n",
    "        self.t += 1"
   ]
  },
  {
   "cell_type": "code",
   "execution_count": 9,
   "id": "ec633645-f79d-4c78-8df3-e45edf1bf145",
   "metadata": {},
   "outputs": [
    {
     "name": "stdout",
     "output_type": "stream",
     "text": [
      "The best prices, that minimizes the non-purchase probability is: 0.010101010101010102\n"
     ]
    }
   ],
   "source": [
    "# Clairvoyants \n",
    "# Data generation -> each day the env samples for the prices of 'prices' the purchase probability, that is choosen randomly each day\n",
    "env = AdversarialPricingEnvironment(max_price=1.0, noise_level=0.1)\n",
    "\n",
    "n_points = 100 # Prices for which generate purchase probability each day -> actions number \n",
    "n_days = 10 # Days number\n",
    "\n",
    "prices_matrix = np.empty((n_days, n_points))  # Matrix to store prices for each day\n",
    "probabilities_matrix = np.empty((n_days, n_points))  # Matrix to store purchase probabilities for each day\n",
    "\n",
    "for day in range(n_days):\n",
    "    day_prices, day_probabilities = env.generate_data(n_points)\n",
    "    prices_matrix[day] = day_prices[:, 0]  # Store only the first column (prices) of the generated prices for the day\n",
    "    probabilities_matrix[day] = day_probabilities  # Store the generated probabilities for the day\n",
    "loss_seq = np.ones((n_days, n_points)) - probabilities_matrix # Our loss will be the probabiity of not purchase\n",
    "\n",
    "best_arm_index = np.argmin(loss_seq.sum(axis=0))\n",
    "best_arm = prices_matrix[0, best_arm_index]\n",
    "clairvoyant_losses = loss_seq[:, best_arm_index]\n",
    "print(f'The best prices, that minimizes the non-purchase probability is: {best_arm}')"
   ]
  },
  {
   "cell_type": "markdown",
   "id": "93b2d66d-a589-49e3-8146-8fe5cd5e444b",
   "metadata": {},
   "source": [
    "**Comment:**  \n",
    "The result using probability as reward (and non-probability as loss) clearly moves towards the least prices, since for them the purchase probability is bigger, so we have to explore also the introduction of a cost and a number of clients, that probably will balance this effect."
   ]
  },
  {
   "cell_type": "code",
   "execution_count": 10,
   "id": "7cfda347-359d-4e30-bfbc-2802c9d91ad7",
   "metadata": {},
   "outputs": [
    {
     "data": {
      "image/png": "[encoded data removed]",
      "text/plain": [
       "<Figure size 432x288 with 1 Axes>"
      ]
     },
     "metadata": {
      "needs_background": "light"
     },
     "output_type": "display_data"
    },
    {
     "data": {
      "image/png": "[encoded data removed]",
      "text/plain": [
       "<Figure size 432x288 with 1 Axes>"
      ]
     },
     "metadata": {
      "needs_background": "light"
     },
     "output_type": "display_data"
    }
   ],
   "source": [
    "n_points = 100\n",
    "n_days = 1000\n",
    "\n",
    "K = n_points\n",
    "T = n_days\n",
    "\n",
    "learning_rate = np.sqrt(np.log(K)/(K*T)) # we set the learning rate as prescribed by the theory (different from expert setting)\n",
    "\n",
    "# Data generation -> each day the env samples for the prices of 'prices' the purchase probability, that is choosen randomly each day\n",
    "env = AdversarialPricingEnvironment_Linear(max_price=1.0, noise_level=0.1)\n",
    "\n",
    "prices_matrix = np.empty((n_days, n_points))  # Matrix to store prices for each day\n",
    "probabilities_matrix = np.empty((n_days, n_points))  # Matrix to store purchase probabilities for each day\n",
    "\n",
    "for day in range(n_days):\n",
    "    day_prices, day_probabilities = env.generate_data(n_points)\n",
    "    prices_matrix[day] = day_prices[:, 0]  # Store only the first column (prices) of the generated prices for the day\n",
    "    probabilities_matrix[day] = day_probabilities  # Store the generated probabilities for the day\n",
    "\n",
    "loss_seq = np.ones((n_days, n_points)) - probabilities_matrix # Our loss will be the probabiity of not purchase\n",
    "\n",
    "best_arm_index = np.argmin(loss_seq.sum(axis=0))\n",
    "best_arm = prices_matrix[0, best_arm_index]\n",
    "clairvoyant_losses = loss_seq[:, best_arm_index]\n",
    "\n",
    "\n",
    "n_trials = 20\n",
    "\n",
    "exp3_regret_per_trial = []\n",
    "# we keep the loss sequence fixed, we will only observe uncertainty due to algorithm's randomizations\n",
    "for trial in range(n_trials):\n",
    "    agent = EXP3Agent(K, learning_rate)\n",
    "    \n",
    "    expected_agent_losses = np.array([])\n",
    "    for t in range(T):\n",
    "        a_t = agent.pull_arm()\n",
    "        l_t = loss_seq[t, a_t]\n",
    "        agent.update(l_t)\n",
    "        # logging\n",
    "        expected_agent_losses = np.append(expected_agent_losses,\n",
    "                                        np.dot(agent.x_t,\n",
    "                                        loss_seq[t-1,:]))\n",
    "\n",
    "    cumulative_regret = np.cumsum(expected_agent_losses-clairvoyant_losses)\n",
    "    exp3_regret_per_trial.append(cumulative_regret)\n",
    "\n",
    "exp3_regret_per_trial = np.array(exp3_regret_per_trial)\n",
    "\n",
    "exp3_average_regret = exp3_regret_per_trial.mean(axis=0)\n",
    "exp3_regret_sd = exp3_regret_per_trial.std(axis=0)\n",
    "\n",
    "plt.plot(np.arange(T), exp3_average_regret, label='EXP3')\n",
    "plt.title('Cumulative Regret of EXP3')\n",
    "plt.fill_between(np.arange(T),\n",
    "                exp3_average_regret-exp3_regret_sd/np.sqrt(n_trials),\n",
    "                exp3_average_regret+exp3_regret_sd/np.sqrt(n_trials),\n",
    "                alpha=0.3)\n",
    "plt.xlabel('$t$')\n",
    "plt.legend()\n",
    "plt.show()\n",
    "\n",
    "plt.figure()\n",
    "plt.barh(np.arange(K), agent.N_pulls)\n",
    "plt.axhline(best_arm_index, color='red', label='Best price')\n",
    "plt.ylabel('actions')\n",
    "plt.xlabel('numer of pulls')\n",
    "plt.legend()\n",
    "plt.title('Number of pulls for each action')\n",
    "plt.show()"
   ]
  },
  {
   "cell_type": "markdown",
   "id": "b8cdd26b-96f6-4d4a-8ba8-a819834d03f9",
   "metadata": {},
   "source": [
    "## UCB1"
   ]
  },
  {
   "cell_type": "markdown",
   "id": "4a2d00f0-2177-48f8-868d-acc7e5ac81cd",
   "metadata": {},
   "source": [
    "Again we work without introducing price/cost/customers_number, here I'll consider as reward the purchase probability."
   ]
  },
  {
   "cell_type": "code",
   "execution_count": 11,
   "id": "79c4d69d-64b9-4d0e-b361-a73e43d81f6f",
   "metadata": {},
   "outputs": [],
   "source": [
    "class UCB1Agent:\n",
    "    def __init__(self, K, T, range=1):\n",
    "        self.K = K\n",
    "        self.T = T\n",
    "        self.range = range\n",
    "        self.a_t = None\n",
    "        self.average_rewards = np.zeros(K)\n",
    "        self.N_pulls = np.zeros(K)\n",
    "        self.t = 0\n",
    "    \n",
    "    def pull_arm(self):\n",
    "        if self.t < self.K:\n",
    "            self.a_t = self.t \n",
    "        else:\n",
    "            ucbs = self.average_rewards + self.range*np.sqrt(2*np.log(self.T)/self.N_pulls)\n",
    "            self.a_t = np.argmax(ucbs)\n",
    "        return self.a_t\n",
    "    \n",
    "    def update(self, r_t):\n",
    "        self.N_pulls[self.a_t] += 1\n",
    "        self.average_rewards[self.a_t] += (r_t - self.average_rewards[self.a_t])/self.N_pulls[self.a_t]\n",
    "        self.t += 1"
   ]
  },
  {
   "cell_type": "code",
   "execution_count": 12,
   "id": "985c6fe8-15b9-4ede-bfb2-117e82644b4d",
   "metadata": {},
   "outputs": [
    {
     "data": {
      "image/png": "[encoded data removed]",
      "text/plain": [
       "<Figure size 432x288 with 1 Axes>"
      ]
     },
     "metadata": {
      "needs_background": "light"
     },
     "output_type": "display_data"
    },
    {
     "data": {
      "image/png": "[encoded data removed]",
      "text/plain": [
       "<Figure size 432x288 with 1 Axes>"
      ]
     },
     "metadata": {
      "needs_background": "light"
     },
     "output_type": "display_data"
    }
   ],
   "source": [
    "n_points = 100  # actions number\n",
    "n_days = 1000 \n",
    "\n",
    "T = n_days \n",
    "K = n_points\n",
    "\n",
    "# Data generation -> each day the env samples for the prices of 'prices' the purchase probability, that is choosen randomly each day\n",
    "env = AdversarialPricingEnvironment_Linear(max_price=1.0, noise_level=0.1)\n",
    "\n",
    "prices_matrix = np.empty((n_days, n_points))  # Matrix to store prices for each day\n",
    "probabilities_matrix = np.empty((n_days, n_points))  # Matrix to store purchase probabilities for each day\n",
    "\n",
    "for day in range(n_days):\n",
    "    day_prices, day_probabilities = env.generate_data(n_points)\n",
    "    prices_matrix[day] = day_prices[:, 0]  # Store only the first column (prices) of the generated prices for the day\n",
    "    probabilities_matrix[day] = day_probabilities  # Store the generated probabilities for the day\n",
    "\n",
    "best_arm_index = np.argmax(probabilities_matrix.sum(axis=0))\n",
    "best_arm = prices_matrix[0, best_arm_index]\n",
    "clairvoyant_rewards = probabilities_matrix[:, best_arm_index]\n",
    "\n",
    "n_trials = 20\n",
    "\n",
    "regret_per_trial = []\n",
    "\n",
    "for seed in range(n_trials):\n",
    "    np.random.seed(seed)\n",
    "    ucb_agent = UCB1Agent(K, T, range=1) # range = 1?\n",
    "\n",
    "    agent_rewards = np.array([])\n",
    "\n",
    "    for t in range(T):\n",
    "        pi_t = ucb_agent.pull_arm() ## the agent returns the index!!\n",
    "        p_t = prices_matrix[0, pi_t] # I get the actual price\n",
    "        r_t = probabilities_matrix[t, pi_t]\n",
    "        ucb_agent.update(r_t)\n",
    "\n",
    "        agent_rewards = np.append(agent_rewards, r_t)\n",
    "\n",
    "    cumulative_regret = np.cumsum(clairvoyant_rewards-agent_rewards)\n",
    "    regret_per_trial.append(cumulative_regret)\n",
    "\n",
    "regret_per_trial = np.array(regret_per_trial)\n",
    "\n",
    "average_regret = regret_per_trial.mean(axis=0)\n",
    "regret_sd = regret_per_trial.std(axis=0)\n",
    "\n",
    "plt.plot(np.arange(T), average_regret, label='Average Regret')\n",
    "plt.title('cumulative regret of UCB1')\n",
    "plt.fill_between(np.arange(T),\n",
    "                average_regret-regret_sd/np.sqrt(n_trials),\n",
    "                average_regret+regret_sd/np.sqrt(n_trials),\n",
    "                alpha=0.3,\n",
    "                label='Uncertainty')\n",
    "#plt.plot((0,T-1), (average_regret[0], average_regret[-1]), 'ro', linestyle=\"--\")\n",
    "plt.xlabel('$t$')\n",
    "plt.legend()\n",
    "plt.show()\n",
    "\n",
    "plt.figure()\n",
    "plt.barh(np.arange(n_points), ucb_agent.N_pulls)\n",
    "plt.axhline(best_arm_index, color='red', label='Best price')\n",
    "plt.ylabel('actions')\n",
    "plt.xlabel('numer of pulls')\n",
    "plt.legend()\n",
    "plt.title('Number of pulls for each action')\n",
    "plt.show();"
   ]
  }
 ],
 "metadata": {
  "kernelspec": {
   "display_name": "Python 3 (ipykernel)",
   "language": "python",
   "name": "python3"
  },
  "language_info": {
   "codemirror_mode": {
    "name": "ipython",
    "version": 3
   },
   "file_extension": ".py",
   "mimetype": "text/x-python",
   "name": "python",
   "nbconvert_exporter": "python",
   "pygments_lexer": "ipython3",
   "version": "3.10.12"
  }
 },
 "nbformat": 4,
 "nbformat_minor": 5
}
