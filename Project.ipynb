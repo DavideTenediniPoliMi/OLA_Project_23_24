{
 "cells": [
  {
   "cell_type": "markdown",
   "id": "e3f5ef57",
   "metadata": {},
   "source": [
    "## Requirements\n",
    "### 1. Stochatic Environment\n",
    "Pricing algorithm: Build a pricing strategy using the continuous set of prices p ∈ [0, 1] and Gaussian Processes.\n",
    "Bidding algorithm: Consider a sequence of second-price auctions. Build two learning algorithms to deal with the bidding problem:\n",
    "- primal-dual algorithm for truthful auctions\n",
    "- UCB-like algorithm\n",
    "### 2. Adversarial Environment\n",
    "Build an highly non-stationary environment. At an high level, it should include:\n",
    "- A sequence of competing bids of the other agents (e.g., sampled from a distribution that changes quickly over time)\n",
    "- For each day, a function specifying the probability with which an user buys for every price (this function changes quickly over time)\n",
    "\n",
    "Build a pricing strategy discretizing the continuous set of prices p ∈ [0, 1]\n",
    "Consider a generalized first-price auction. Build a learning algorithms to deal with the bidding problem. In particular, a primal-dual algorithm for non-truthful auctions.\n",
    "### 3. two extensions for pricing - BONUS IS NOT INCLUDED HERE\n",
    "We extend the pricing problem along two directions. Since we focus only on pricing, we directly consider a demand curve with noise (differently from previous points in which the demand curve depends on the number of visits and hence on the advertising step).\n",
    "\n",
    "Build a pricing strategy using the discretization of the prices p ∈ [0, 1] and:\n",
    "1. sliding-window\n",
    "2. CUSUM\n",
    "\n",
    "Build a non-stationary environment for the pricing problem. At an high level:\n",
    "- Days are partitioned in intervals\n",
    "- In each interval the demand curve is different\n",
    "- The demand curve + noise specifies how many buyers while buy for every price depending on the current interval\n",
    "\n",
    "### 4. Comparing Different Bidding Algorithms\n",
    "The goal is to compare the performances of different algorithms.\n",
    "Consider the different algorithms that we have seen for bidding and let them play one against the others in a generalized first-price auction. In particular, consider:\n",
    "- A primal-dual algorithm for truthful auctions\n",
    "- A primal-dual algorithm for non-truthful auctions\n",
    "- A UCB-like approach\n"
   ]
  },
  {
   "cell_type": "markdown",
   "id": "a21001a2",
   "metadata": {},
   "source": [
    "# Codes"
   ]
  },
  {
   "cell_type": "markdown",
   "id": "e908045c",
   "metadata": {},
   "source": [
    "Stochatic Environment"
   ]
  },
  {
   "cell_type": "markdown",
   "id": "486c3c5c",
   "metadata": {},
   "source": [
    "Adversarial Environment"
   ]
  },
  {
   "cell_type": "markdown",
   "id": "fa59ff42",
   "metadata": {},
   "source": [
    "Extensions for Pricing"
   ]
  },
  {
   "cell_type": "markdown",
   "id": "76d1bb94",
   "metadata": {},
   "source": [
    "Comparison of Bidding Algos"
   ]
  },
  {
   "cell_type": "code",
   "execution_count": null,
   "id": "f4e01b32",
   "metadata": {},
   "outputs": [],
   "source": []
  }
 ],
 "metadata": {
  "kernelspec": {
   "display_name": "Python 3 (ipykernel)",
   "language": "python",
   "name": "python3"
  },
  "language_info": {
   "codemirror_mode": {
    "name": "ipython",
    "version": 3
   },
   "file_extension": ".py",
   "mimetype": "text/x-python",
   "name": "python",
   "nbconvert_exporter": "python",
   "pygments_lexer": "ipython3",
   "version": "3.10.10"
  }
 },
 "nbformat": 4,
 "nbformat_minor": 5
}
